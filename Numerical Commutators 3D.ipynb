{
 "cells": [
  {
   "cell_type": "markdown",
   "id": "44f15b84",
   "metadata": {},
   "source": [
    "Let's do 3+1 dimensions, consider $x^\\mu \\in \\mathbb{R}^{1+3}$, where $f$ is the Fourier transform of a Gaussian:\n",
    "\n",
    "\\begin{align}\n",
    "  [\\phi(x), \\phi(0)] = \\int_{-\\infty}^\\infty \\frac{\\mathrm d^3p}{(2\\pi)^3} \\frac{f^2(|\\vec p|)}{2 F_{\\vec p}} \\left( e^{-ip_\\mu x^\\mu} - e^{ip_\\mu x^\\mu}\\right) \\bigg\\rvert_{p^0 = F_{\\vec p}} \\\\\n",
    "\\end{align}\n",
    "\n",
    "Choose spherical coordinates $\\vec p = (r, \\theta, \\phi)$ with $\\hat z$ direction along $\\vec x$. Now let $t = x^0$ and $x = |\\vec x|$. Assuming $m \\neq 0$ and $\\sigma \\neq 0$, the integral simplifies to:\n",
    "\n",
    "\\begin{align}\n",
    "  [\\phi(x), \\phi(0)] = -i \\int_{0}^\\infty \\frac{\\mathrm dr}{2\\pi^2} t r^2 \\, \\mathrm{sinc}(rx) \\, f^2(r^2) \\, \\mathrm{sinc}(t E_r f(r^2))\n",
    "\\end{align}\n",
    "\n",
    "Rescale $r \\mapsto r' = r/\\sigma$ and instead of plotting a $t$ vs. $x$ diagram, plot the dimensionless quantities $t' = mt$ vs. $x' = mx$. Then the only parameter of this commutator is $\\alpha = \\sigma m$ with units of energy, up to an overall factor of $\\sigma^{-2}$.\n",
    "\n",
    "\\begin{align}\n",
    "  \\left| [\\phi(x), \\phi(0)] \\right| &= \\frac{1}{\\sigma^2} \\cdot \\frac{t'}{2\\pi^2 \\alpha} \\int_0^\\infty \\mathrm dr \\, r^2 \\, e^{-r^2} \\, \\mathrm{sinc}\\left(\\frac{rx'}{\\alpha}\\right) \\, \\mathrm{sinc}\\left(t' e^{-\\frac12 r^2} \\sqrt{\\frac{r^2}{\\alpha^2} + 1}\\right)\n",
    "\\end{align}"
   ]
  },
  {
   "cell_type": "code",
   "execution_count": null,
   "id": "714c5aa5",
   "metadata": {},
   "outputs": [],
   "source": [
    "NUM_PROC = 56\n",
    "FOLDER = \"./output/\"\n",
    "\n",
    "from IPython.utils import io\n",
    "import numpy as np\n",
    "import multiprocessing as mp"
   ]
  },
  {
   "cell_type": "code",
   "execution_count": null,
   "id": "dfbdb48f",
   "metadata": {},
   "outputs": [],
   "source": [
    "%%writefile temp.py\n",
    "\n",
    "import numpy as np\n",
    "import scipy.integrate as integrate\n",
    "import warnings\n",
    "\n",
    "def integrand(r, x, t, a):\n",
    "    f = np.exp(-1/2 * r**2)\n",
    "    return r**2 * f**2 * np.sinc(r*x/a) * np.sinc(t * f * np.sqrt(r**2/a**2 + 1))\n",
    "    \n",
    "def comm(x, t, a):\n",
    "    with warnings.catch_warnings():\n",
    "        warnings.simplefilter(\"ignore\")\n",
    "        I = integrate.quad(integrand, 0, +np.inf, args=(x, t, a))[0]    \n",
    "    \n",
    "    return abs(1/(2 * np.pi**2 * a) * t * I)**2"
   ]
  },
  {
   "cell_type": "code",
   "execution_count": null,
   "id": "bff00777",
   "metadata": {},
   "outputs": [],
   "source": [
    "from temp import comm\n",
    "\n",
    "def calc(lim_x, lim_t, step, alpha):\n",
    "    xs = np.linspace(-lim_x, lim_x, step)\n",
    "    ts = np.linspace(-lim_t, lim_t, step)\n",
    "    \n",
    "    xx, tt = np.meshgrid(xs, ts)\n",
    "    arguments = [(x, t, alpha) for t in ts for x in xs]\n",
    "\n",
    "    mp_context = mp.get_context(\"spawn\")\n",
    "    with mp_context.Pool(processes=NUM_PROC) as pool:\n",
    "        z = pool.starmap(comm, arguments)\n",
    "\n",
    "    z = np.array(z).reshape(step, step)\n",
    "    return xx, tt, z"
   ]
  },
  {
   "cell_type": "code",
   "execution_count": null,
   "id": "2ac28f9d",
   "metadata": {},
   "outputs": [],
   "source": [
    "import matplotlib.pyplot as plt\n",
    "\n",
    "def plot(xx, tt, z, sigma, mass, label=None, log=False, show=True):\n",
    "    ax = plt.gca()\n",
    "    ax.axis('equal')\n",
    "    ax.set_box_aspect(1)\n",
    "    \n",
    "    cnt = plt.pcolormesh(xx, tt, z, cmap='viridis', antialiased=False, shading='auto')\n",
    "    \n",
    "    plt.colorbar()\n",
    "    plt.xlabel(\"Space Coordinate $m x$\")\n",
    "    plt.ylabel(\"Time Coordinate $m t$\")\n",
    "    plt.title(\"$\" + (r\"\\log\" if log else \"\") + \"|\\sigma^2 [\\phi(mt,0,0,mx), \\phi(0,0,0,0)]|^2$, \"\n",
    "                  + f\"$\\sigma = {sigma}, m = {mass}$\")\n",
    "    \n",
    "    if label:\n",
    "        plt.savefig(FOLDER + label + (\"-log\" if log else \"\") + \".png\")\n",
    "    \n",
    "    if show:\n",
    "        plt.show()\n",
    "    \n",
    "def run1(lim_x, lim_t, step, sigma, mass, label=None, log=False, show=True):\n",
    "    alpha = sigma * mass\n",
    "    \n",
    "    xx, tt, z = calc(lim_x, lim_t, step, alpha)\n",
    "    \n",
    "    if not label:\n",
    "        label = f\"numerical-commutator-m{mass}-s{sigma}-l{lim_x}-{lim_t}\"\n",
    "    \n",
    "    plot(xx, tt, z, sigma, mass, label=label, show=show)\n",
    "    \n",
    "    if log:\n",
    "        plot(xx, tt, np.log(z), sigma, mass, label=label, log=True, show=show)"
   ]
  },
  {
   "cell_type": "code",
   "execution_count": null,
   "id": "ec58165a",
   "metadata": {},
   "outputs": [],
   "source": [
    "from tqdm.notebook import tqdm\n",
    "for s in tqdm([0.01, 0.05, 0.1, 0.2, 0.3, 0.4, 0.5, 0.6, 0.7,\n",
    "          0.8, 0.9 , 1,1.1, 1.2, 1.4, 1.5, 1.6, 1.8, 2,\n",
    "          3,4, 5,6, 7,8, 9, 10]):\n",
    "    run1(20, 20, 250, s, 1, log=True)"
   ]
  },
  {
   "cell_type": "code",
   "execution_count": null,
   "id": "25c17012",
   "metadata": {},
   "outputs": [],
   "source": []
  }
 ],
 "metadata": {
  "kernelspec": {
   "display_name": "Python 3.10.10 (TF-2.12.0)",
   "language": "python",
   "name": "python3.10.10"
  },
  "language_info": {
   "codemirror_mode": {
    "name": "ipython",
    "version": 3
   },
   "file_extension": ".py",
   "mimetype": "text/x-python",
   "name": "python",
   "nbconvert_exporter": "python",
   "pygments_lexer": "ipython3",
   "version": "3.10.10"
  }
 },
 "nbformat": 4,
 "nbformat_minor": 5
}
